{
  "nbformat": 4,
  "nbformat_minor": 0,
  "metadata": {
    "colab": {
      "provenance": []
    },
    "kernelspec": {
      "name": "python3",
      "display_name": "Python 3"
    },
    "language_info": {
      "name": "python"
    }
  },
  "cells": [
    {
      "cell_type": "markdown",
      "source": [
        "Q.6"
      ],
      "metadata": {
        "id": "Tdu45LaCubN5"
      }
    },
    {
      "cell_type": "code",
      "execution_count": null,
      "metadata": {
        "id": "1mVjKZAHuYMc"
      },
      "outputs": [],
      "source": [
        "def cross_product(x, y, ans):\n",
        " \n",
        "    cross_P.append(x[1] * y[2] - x[2] * y[1])\n",
        "    cross_P.append(x[2] * y[0] - x[0] * y[2])\n",
        "    cross_P.append(x[0] * y[1] - x[1] * y[0])"
      ]
    },
    {
      "cell_type": "code",
      "source": [
        "# Driver function\n",
        "if __name__ =='__main__':\n",
        "    x = [4, 2, 2]\n",
        "    y = [6, 5, 1]\n",
        "    ans = []\n",
        "\n",
        "    print(\"Cross product:\", end =\" \")\n",
        "    crossProduct(x, y, ans)\n",
        " \n",
        "# cross product of two vector array.\n",
        "    for i in range(0, 3):\n",
        "        print(cross_P[i], end =\" \")"
      ],
      "metadata": {
        "colab": {
          "base_uri": "https://localhost:8080/"
        },
        "id": "k-qe2MJzukAi",
        "outputId": "376350f9-17ce-4fab-ff8c-c50ba9a17eba"
      },
      "execution_count": null,
      "outputs": [
        {
          "output_type": "stream",
          "name": "stdout",
          "text": [
            "Cross product: -8 8 8 "
          ]
        }
      ]
    },
    {
      "cell_type": "markdown",
      "source": [
        "Taking 8 common, therefore point of intersection is (-1,1,1)."
      ],
      "metadata": {
        "id": "jiphAsb9v8hD"
      }
    },
    {
      "cell_type": "markdown",
      "source": [
        "Q.5"
      ],
      "metadata": {
        "id": "cxX1y4e1wP55"
      }
    },
    {
      "cell_type": "code",
      "source": [
        "import numpy as np\n",
        "import cv2"
      ],
      "metadata": {
        "id": "PrIxfADNwYDV"
      },
      "execution_count": null,
      "outputs": []
    },
    {
      "cell_type": "code",
      "source": [
        "# M is the given matrix\n",
        "M = np.array([-2872.0, 1744.3, -138.7, 77270.0, -273.9, -174.8, -3287.5, 94116.0, -0.7380, -0.6480, -0.1883, 75.633])\n",
        "M = np.reshape(M, (3, 4))\n",
        "print('M:\\n', M)\n",
        "M_normalized = M/M[2][3]\n",
        "print('Normalized Matrix:\\n', M_normalized)\n",
        "\n",
        "K, R, t, *_ = cv2.decomposeProjectionMatrix(M_normalized)\n",
        "t = -t[:3] / t[3]\n",
        "print('\\n', K, '\\n')\n",
        "print('\\n', R, '\\n')\n",
        "print('\\n', t, '\\n')"
      ],
      "metadata": {
        "colab": {
          "base_uri": "https://localhost:8080/"
        },
        "id": "gq9rPqZpu_Zi",
        "outputId": "a459f96e-0d1f-4fd5-c8fe-1b0a6d439eb1"
      },
      "execution_count": null,
      "outputs": [
        {
          "output_type": "stream",
          "name": "stdout",
          "text": [
            "M:\n",
            " [[-2.8720e+03  1.7443e+03 -1.3870e+02  7.7270e+04]\n",
            " [-2.7390e+02 -1.7480e+02 -3.2875e+03  9.4116e+04]\n",
            " [-7.3800e-01 -6.4800e-01 -1.8830e-01  7.5633e+01]]\n",
            "Normalized Matrix:\n",
            " [[-3.79728425e+01  2.30626843e+01 -1.83385559e+00  1.02164399e+03]\n",
            " [-3.62143509e+00 -2.31116047e+00 -4.34664763e+01  1.24437745e+03]\n",
            " [-9.75764547e-03 -8.56768871e-03 -2.48965399e-03  1.00000000e+00]]\n",
            "\n",
            " [[ 4.23906196e+01 -4.61819386e-02  1.34246206e+01]\n",
            " [ 0.00000000e+00  4.18944605e+01  1.23549584e+01]\n",
            " [ 0.00000000e+00  0.00000000e+00  1.32217742e-02]] \n",
            "\n",
            "\n",
            " [[-0.66192563  0.74941331  0.01530159]\n",
            " [ 0.13119877  0.13593284 -0.98199244]\n",
            " [-0.7379982  -0.64799842 -0.18829954]] \n",
            "\n",
            "\n",
            " [[-54.95000876]\n",
            " [-47.8868527 ]\n",
            " [-21.50405194]] \n",
            "\n"
          ]
        }
      ]
    },
    {
      "cell_type": "code",
      "source": [],
      "metadata": {
        "id": "0zeSIP-YwW9p"
      },
      "execution_count": null,
      "outputs": []
    }
  ]
}