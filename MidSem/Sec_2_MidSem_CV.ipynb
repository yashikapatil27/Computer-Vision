{
  "nbformat": 4,
  "nbformat_minor": 0,
  "metadata": {
    "colab": {
      "provenance": []
    },
    "kernelspec": {
      "name": "python3",
      "display_name": "Python 3"
    },
    "language_info": {
      "name": "python"
    }
  },
  "cells": [
    {
      "cell_type": "markdown",
      "source": [
        "Sec-2 : Q.2 part 1"
      ],
      "metadata": {
        "id": "uK4JZPZWzye6"
      }
    },
    {
      "cell_type": "code",
      "source": [
        "import cv2\n",
        "import numpy as np\n",
        "\n",
        "def FillHole(mask):\n",
        "    contours, hierarchy = cv2.findContours(mask, cv2.RETR_TREE, cv2.CHAIN_APPROX_SIMPLE)\n",
        "    len_contour = len (contours)\n",
        "    contour_list = []\n",
        "    for i in range(len_contour):\n",
        "        drawing = np.zeros_like(mask, np.uint8) \n",
        "        img_contour = cv2.drawContours(drawing, contours, i, (255, 255, 255), -1)\n",
        "        contour_list.append(img_contour)\n",
        "\n",
        "    out = sum(contour_list)\n",
        "    return out\n",
        "\n",
        "if __name__ == '__main__':\n",
        "    mask_in = cv2.imread('Fig1.png', 0)\n",
        "    mask_out = FillHole(mask_in)\n",
        "    cv2.imwrite('Fig1.png', mask_out)\n",
        "\n",
        "plt.imshow(mask_out)\n"
      ],
      "metadata": {
        "colab": {
          "base_uri": "https://localhost:8080/",
          "height": 286
        },
        "id": "jZEds-KP0bu7",
        "outputId": "c30e1f28-1c72-4b4c-fa45-050f0d3bfe94"
      },
      "execution_count": null,
      "outputs": [
        {
          "output_type": "execute_result",
          "data": {
            "text/plain": [
              "<matplotlib.image.AxesImage at 0x7f9d89009250>"
            ]
          },
          "metadata": {},
          "execution_count": 22
        },
        {
          "output_type": "display_data",
          "data": {
            "image/png": "[encoded data removed]",
            "text/plain": [
              "<Figure size 432x288 with 1 Axes>"
            ]
          },
          "metadata": {
            "needs_background": "light"
          }
        }
      ]
    },
    {
      "cell_type": "code",
      "source": [
        "plt.imshow(labels_im)"
      ],
      "metadata": {
        "colab": {
          "base_uri": "https://localhost:8080/",
          "height": 286
        },
        "id": "MOp-lt3S6itw",
        "outputId": "908b8a10-37fa-4379-fba0-93a886b36f04"
      },
      "execution_count": null,
      "outputs": [
        {
          "output_type": "execute_result",
          "data": {
            "text/plain": [
              "<matplotlib.image.AxesImage at 0x7f9d88f70890>"
            ]
          },
          "metadata": {},
          "execution_count": 23
        },
        {
          "output_type": "display_data",
          "data": {
            "image/png": "[encoded data removed]",
            "text/plain": [
              "<Figure size 432x288 with 1 Axes>"
            ]
          },
          "metadata": {
            "needs_background": "light"
          }
        }
      ]
    },
    {
      "cell_type": "code",
      "execution_count": null,
      "metadata": {
        "colab": {
          "base_uri": "https://localhost:8080/",
          "height": 268
        },
        "id": "f9okzougzvDM",
        "outputId": "cb40b7cc-e817-428f-b2df-c21a3fd66c8f"
      },
      "outputs": [
        {
          "output_type": "display_data",
          "data": {
            "image/png": "[encoded data removed]",
            "text/plain": [
              "<Figure size 432x288 with 1 Axes>"
            ]
          },
          "metadata": {
            "needs_background": "light"
          }
        }
      ],
      "source": [
        "import matplotlib.pyplot as plt\n",
        "import numpy as np\n",
        "import cv2\n",
        "\n",
        "\n",
        "img = cv2.imread('Fig1.png', 0)\n",
        "img = cv2.threshold(img, 127, 255, cv2.THRESH_BINARY)[1]  \n",
        "num_labels, labels_im = cv2.connectedComponents(img)\n",
        "\n",
        "def imshow_components(labels):\n",
        "    \n",
        "    label_hue = np.uint8(179*labels/np.max(labels))\n",
        "    blank_ch = 255*np.ones_like(label_hue)\n",
        "    labeled_img = cv2.merge([label_hue, blank_ch, blank_ch])\n",
        "\n",
        "    \n",
        "    labeled_img = cv2.cvtColor(labeled_img, cv2.COLOR_HSV2BGR)\n",
        "\n",
        "    \n",
        "    labeled_img[label_hue==0] = 0\n",
        "\n",
        "    cv2.imwrite('labeled.png', labeled_img)\n",
        "    plt.imshow(labeled_img)\n",
        "    cv2.waitKey()\n",
        "\n",
        "imshow_components(labels_im)"
      ]
    },
    {
      "cell_type": "code",
      "source": [],
      "metadata": {
        "id": "SDNuSHsD0VQi"
      },
      "execution_count": null,
      "outputs": []
    },
    {
      "cell_type": "markdown",
      "source": [
        "Q.3"
      ],
      "metadata": {
        "id": "nOnFPx0g6IYD"
      }
    },
    {
      "cell_type": "code",
      "source": [
        "from itertools import groupby\n",
        "\n",
        "def nonoverlapping(hits):\n",
        "    nonoverlap = []\n",
        "    overst =  False\n",
        "    for i in range(1,len(hits)):\n",
        "        (p, c) = hits[i-1], hits[i]\n",
        "        if c[2] > p[3]:\n",
        "            if not overst: nonover.append(p)\n",
        "            nonover.append(c)\n",
        "            overst = True  \n",
        "    return nonoverlap"
      ],
      "metadata": {
        "id": "SkI6mMLg0Ykv"
      },
      "execution_count": null,
      "outputs": []
    },
    {
      "cell_type": "code",
      "source": [
        "import matplotlib.pyplot as plt\n",
        "import cv2 \n",
        "\n",
        "img_file= \"Fig2.png\"\n",
        "\n",
        "img= cv2.imread(img_file)\n",
        "\n",
        "gray_img=cv2.cvtColor(img,cv2.COLOR_BGR2GRAY)\n",
        "\n",
        "im_gauss = cv2.GaussianBlur(gray_img, (5, 5), 0)\n",
        "ret, thresh = cv2.threshold(im_gauss, 127, 255, 0)\n",
        "\n",
        "contours, hierarchy = cv2.findContours(thresh, cv2.RETR_TREE, cv2.CHAIN_APPROX_SIMPLE)\n",
        "\n",
        "margin = 40\n",
        "\n",
        "for con in contours:\n",
        "    area = cv2.contourArea(con)\n",
        "    if 100 < area < 500:\n",
        "        x,y,w,h = cv2.boundingRect(con)\n",
        "        cv2.rectangle(img, (x-margin, y-margin), (x + w+margin, y + h+margin), (0,255,0), 2)\n",
        "        \n",
        "plt.imshow(img, cmap='gray')"
      ],
      "metadata": {
        "colab": {
          "base_uri": "https://localhost:8080/",
          "height": 286
        },
        "id": "rhB2KGeY6-Yn",
        "outputId": "9c051d98-f090-4fe8-dfc4-d079b0d7771c"
      },
      "execution_count": null,
      "outputs": [
        {
          "output_type": "execute_result",
          "data": {
            "text/plain": [
              "<matplotlib.image.AxesImage at 0x7f9d88e372d0>"
            ]
          },
          "metadata": {},
          "execution_count": 33
        },
        {
          "output_type": "display_data",
          "data": {
            "image/png": "[encoded data removed]",
            "text/plain": [
              "<Figure size 432x288 with 1 Axes>"
            ]
          },
          "metadata": {
            "needs_background": "light"
          }
        }
      ]
    },
    {
      "cell_type": "code",
      "source": [
        "print(len(contours))"
      ],
      "metadata": {
        "colab": {
          "base_uri": "https://localhost:8080/"
        },
        "id": "II7ILmM97aFT",
        "outputId": "7979f546-4376-4069-d2ed-df11b8b1d2a4"
      },
      "execution_count": null,
      "outputs": [
        {
          "output_type": "stream",
          "name": "stdout",
          "text": [
            "41\n"
          ]
        }
      ]
    },
    {
      "cell_type": "code",
      "source": [],
      "metadata": {
        "id": "-06ndOWMBk7J"
      },
      "execution_count": null,
      "outputs": []
    }
  ]
}